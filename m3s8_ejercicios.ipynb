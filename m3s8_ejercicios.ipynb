{
  "nbformat": 4,
  "nbformat_minor": 0,
  "metadata": {
    "colab": {
      "provenance": [],
      "include_colab_link": true
    },
    "kernelspec": {
      "name": "python3",
      "display_name": "Python 3"
    },
    "language_info": {
      "name": "python"
    }
  },
  "cells": [
    {
      "cell_type": "markdown",
      "metadata": {
        "id": "view-in-github",
        "colab_type": "text"
      },
      "source": [
        "<a href=\"https://colab.research.google.com/github/josehermosillaa/Acamica-Data-Science/blob/master/m3s8_ejercicios.ipynb\" target=\"_parent\"><img src=\"https://colab.research.google.com/assets/colab-badge.svg\" alt=\"Open In Colab\"/></a>"
      ]
    },
    {
      "cell_type": "markdown",
      "source": [
        "# Bienvenido, alumno/a.\n",
        "\n",
        "*   Este cuaderno (ipynb o *interactive python notebook*) se ha creado por una simple razón: es más práctico trabajar en un solo archivo donde puedes ejecutar cada ejercicio (código) por separado sin necesidad de hacer modificaciones con comentarios. \n",
        "\n",
        "*   Puedes cargar estos archivos en plataformas como *Google Colab* (online) y *Jupyter Notebook* (online/offline) (¡PUEDES INSTALAR UNA EXTENSIÓN PARA CARGAR ARCHIVOS IPYNB EN ***VSCODE*** :D!).\n",
        "\n",
        "*   Además, podrás documentar cada fragmento de código no solo incluyendo *doctrings* o comentarios en ellos, sino también con un lenguaje de marcado llamado [*Markdown*](https://markdown.es/) (en efecto, este fragmento de texto está escrito en Markdown), así como la documentación de tus repositorios cargados en *github* (¿te suena el archivo README.**md**?).\n",
        "\n",
        "*   Mientras trabajes de esta forma con python podrás experimentar las ventajas y desventajas de utilizar cuadernos (archivos mejor conocidos como *notebooks*). Así que te presento a continuación una serie de ejercicios propuestos que involucran el uso de estructuras de datos en python: `list`, `set`, `tuple`, `dict`.\n",
        "\n",
        "## Que te vaya bien."
      ],
      "metadata": {
        "id": "tgtTbThy4Jfc"
      }
    },
    {
      "cell_type": "markdown",
      "source": [
        "# Ejercicio 1: Demo\n",
        "*   En los notebooks tu puedes añadir, mover, editar, ejecutar o eliminar fragmentos de este en el orden que quieras, ya sean **texto** o **código**. Por ejemplo, este texto está escrito en un fragmento de texto del notebook :)\n",
        "\n",
        "*   Ahora vas a crear un fragmento de código justo después de este fragmento, para que programes un saludo en lenguaje python y luego ejecutarlo para mostrar un *'Hola Mundo'*: \n",
        "\n",
        "> 1.  Arrasta el puntero del mouse justo debajo de este fragmento y aparecerán dos botones, luego presiona el que dice ***Código***. \n",
        "> 2.  Una vez lo hagas, se creará un fragmento de código. Programa en él.\n",
        "> 3.  Pulsa el botón redondo que el fragmento de código posee en su izquierda para ejecutarlo (dirige el cursor hacia donde están los corchetes). Verás la salida del código que hayas programado, justo debajo del fragmento.\n",
        "\n",
        "\n",
        "---\n",
        "\n",
        "\n",
        "\n",
        "*   Todos los fragmentos de código pueden ejecutarse para trabajar en conjunto, como si fuese un solo programa. La ventaja es tú decides cuáles fragmentos de código ejecutar y en qué orden.\n",
        "\n",
        "\n",
        "---\n",
        "\n",
        "*   A partir de aquí el autor de este notebook resolverá algunas dudas sobre el uso de este notebook para que empieces a resolver los demás ejercicios.\n",
        "\n",
        "\n",
        "\n",
        "\n"
      ],
      "metadata": {
        "id": "ayBuEBJw9YcZ"
      }
    },
    {
      "cell_type": "code",
      "source": [
        "# Hola mundo en python\n",
        "print('Hola Mundo')"
      ],
      "metadata": {
        "colab": {
          "base_uri": "https://localhost:8080/"
        },
        "id": "Zpzrfa1w_87p",
        "outputId": "04e0963d-0a89-4f98-97ad-8d05478e2abe"
      },
      "execution_count": null,
      "outputs": [
        {
          "output_type": "stream",
          "name": "stdout",
          "text": [
            "Hola Mundo\n"
          ]
        }
      ]
    },
    {
      "cell_type": "markdown",
      "source": [
        "## Una cosa más antes de comenzar..."
      ],
      "metadata": {
        "id": "7NcBCxsuWBZm"
      }
    },
    {
      "cell_type": "code",
      "source": [
        "# Este es otro bloque de código\n",
        "a = 5"
      ],
      "metadata": {
        "id": "pKOvxU_sVS7C"
      },
      "execution_count": null,
      "outputs": []
    },
    {
      "cell_type": "code",
      "source": [
        "# Puedo traer a otras celdas de código todas las variables que haya ejecutado anteriormente\n",
        "\n",
        "c = a + 5 # a no está definida aquí, ejecuta la celda donde se haya definido primero"
      ],
      "metadata": {
        "id": "KrAK7yIJVbp0"
      },
      "execution_count": null,
      "outputs": []
    },
    {
      "cell_type": "code",
      "source": [
        "# Estas celdas pueden funcionar como el prompt de la consola\n",
        "\n",
        "c"
      ],
      "metadata": {
        "colab": {
          "base_uri": "https://localhost:8080/"
        },
        "id": "vjNMRJCDV36f",
        "outputId": "5f11907f-cc2c-4d0a-b48d-1b3f6b0a9528"
      },
      "execution_count": null,
      "outputs": [
        {
          "output_type": "execute_result",
          "data": {
            "text/plain": [
              "10"
            ]
          },
          "metadata": {},
          "execution_count": 3
        }
      ]
    },
    {
      "cell_type": "markdown",
      "source": [
        "# Ejercicio 2: `list` *Sorted Order*\n",
        "\n",
        "*Puede resolverse con al menos **22 líneas**.*\n",
        "\n",
        "*  Escribe un programa que lea valores enteros del usuario y los almacene en una `list`. Tu programa debería continuar leyendo valores hasta que el usuario ingrese un `0`. Luego el programa debería mostrar por pantalla todos los valores ingresados por el usuario (excepto el `0`) en orden ascendente, uno por cada salto de línea. Utiliza el método `sort` o la función `sorted` para ordenar la lista."
      ],
      "metadata": {
        "id": "eTAEXa6qWQ2R"
      }
    },
    {
      "cell_type": "code",
      "source": [
        "# Respuesta Ejercicio 2"
      ],
      "metadata": {
        "id": "a51rvIBGYPCb"
      },
      "execution_count": null,
      "outputs": []
    },
    {
      "cell_type": "markdown",
      "source": [
        "# Ejercicio 3: `list` *Formatting a List*\n",
        "\n",
        "*Puede resolverse con al menos **41 líneas**.*\n",
        "\n",
        "*  Cuando uno escribe una lista de objetos, uno normalmente separa cada palabra con comas (`,`). Además, la letra `\"y\"` se añade como un separador normalmente antes de la última palabra. Todo lo anterior ocurre así, a menos que la lista tenga solamente un objeto. Considera los siguientes ejemplos:\n",
        "\n",
        "\n",
        "\n",
        "> *  manzanas\n",
        "*  manzanas y naranjas\n",
        "*  manzanas, naranjas y plátanos\n",
        "*  manzanas, naranjas, plátanos y limones\n",
        "\n",
        "*  Escribe una función que reciba una lista de datos tipo `string` como su único parámetro. Tu función debería devolver un `string` que contenga todos los recibidos en el parámetro de la función con el formato indicado anteriormente. Considera que tu función debe funcionar adecuadamente para listas de cualquier longitud. \n",
        "\n",
        "*  Finalmente, crea un programa que lea datos tipo `string` que ingrese el usuario, luego procésalos con una llamada a tu función para que muestre por pantalla el resultado que devuelve tu función.\n",
        "\n",
        "\n",
        "\n",
        "\n"
      ],
      "metadata": {
        "id": "jMp0JEKiYSXJ"
      }
    },
    {
      "cell_type": "code",
      "source": [
        "# Respuesta Ejercicio 3"
      ],
      "metadata": {
        "id": "N6a5Qq-lb8TM"
      },
      "execution_count": null,
      "outputs": []
    },
    {
      "cell_type": "markdown",
      "source": [
        "# Ejercicio 4: `list` *Random Lottery Numbers*\n",
        "\n",
        "*Puede resolverse con al menos **28 líneas**.*\n",
        "\n",
        "*  Para ganar el \"*premio gordo*\" en un concurso de lotería, uno debe acertar los seis números sorteados con los números del boleto ganador. Los números de la lotería son enteros que van del 1 al 49. Escribe un programa que genere una selección aleatoria de 6 números para crear un boleto. Asegúra de que ningún número del boleto se repita. Luego muestra por pantalla los números del boleto creado, ordenados de forma ascendente."
      ],
      "metadata": {
        "id": "M1fzoW-qcAZc"
      }
    },
    {
      "cell_type": "code",
      "source": [
        "# Respuesta Ejercicio 4"
      ],
      "metadata": {
        "id": "ZHNidS3eb_pz"
      },
      "execution_count": null,
      "outputs": []
    },
    {
      "cell_type": "markdown",
      "source": [
        "# Ejercicio 5: `list` *Does a List Contain a Sublist?*\n",
        "\n",
        "*Puede resolverse con al menos **44 líneas**.*\n",
        "\n",
        "*  Una sublista es una lista que es parte de otra más grande. Una sublista puede ser una lista que contenga un solo elemento, varios e incluso ningún elemento. Por ejemplo: `[1]`, `[2]`, `[3]` y `[4]`, todas son sublistas de `[1,2,3,4]`. Las listas `[2, 3]` también es una sublista de `[1, 2, 3, 4]`, pero `[2, 4]` no es una sublista de `[1, 2, 3, 4]` porque los elementos `2` y `4` no son adyacentes en la lista más grande. La lista vacía es una sublista de cualquier lista, lo que implica que la lista `[]` es una sublista de `[1, 2, 3, 4]`. Una lista es también una sublista en sí misma, es decir, que la lista `[1, 2, 3, 4]` es una sublista de `[1, 2, 3, 4]`.\n",
        "\n",
        "*  En este ejercicio, debes crear una función llamada `isSublist`, que determine si una lista es o no una sublista de otra. Esta función debe recibir dos listas: `larger` y `smaller` como únicos parámetros y su salida es un `bool` que corresponde a `True` si y solo si `smaller` es una sublista de `larger`. Escribe además un programa para demostrar tu función."
      ],
      "metadata": {
        "id": "9Ookcj5ndxXa"
      }
    },
    {
      "cell_type": "code",
      "source": [
        "# Respuesta Ejercicio 5"
      ],
      "metadata": {
        "id": "aQ5uFebwg4ym"
      },
      "execution_count": null,
      "outputs": []
    },
    {
      "cell_type": "markdown",
      "source": [
        "# Ejercicio 6: `list` *Generate All Sublists of a List*\n",
        "\n",
        "*Puede resolverse con al menos **41 líneas**.*\n",
        "\n",
        "*  Usa la definición de una sublista del Ejercicio 5 y escribe una función que devuelve una lista que contenga cada posible sublista de una lista. Por ejemplo, las sublistas de `[1, 2, 3]` son: `[]`, `[1]`, `[2]`, `[3]`, `[1, 2]`, `[2, 3]` y `[1, 2, 3]`. Nota que tu función siempre devolverá al menos una lista vacía. Escribe además un programa que demuestre tu función, mostrando por pantalla los resultados."
      ],
      "metadata": {
        "id": "7x_9lgajg6po"
      }
    },
    {
      "cell_type": "code",
      "source": [
        "# Respuesta Ejercicio 6"
      ],
      "metadata": {
        "id": "1sxRqaYGiISz"
      },
      "execution_count": null,
      "outputs": []
    },
    {
      "cell_type": "markdown",
      "source": [
        "# Ejercicio 7: `dict` *Morse Code*\n",
        "\n",
        "*Puede resolverse con al menos **15 líneas**.*\n",
        "\n",
        "*  El código Morse es un esquema de codificación que utiliza guiones y puntos para representar dígitos y letras. En este ejercicio, escribirás un programa que utiliza un diccionario para almacenar la correspondencia entre estos símbolos y el código Morse. Utiliza el símbolo `.` para representar un punto y el símbolo `-` para representar un guión. [Clic aquí](https://4.bp.blogspot.com/-wIJxp3YynSI/VcKfZUP1iwI/AAAAAAAABAs/2-t0mQ21m_A/s1600/cc3b3digo-morse-site.jpg) para ver la correspondencia de caracteres a guiones y puntos.\n",
        "\n",
        "*  Tu programa debe leer un mensaje del usuario. Luego debe traducir todas las letras y dígitos del mensaje a código Morse, dejando un espacio entre cada secuencia de guiones y puntos. Tu programa debe ignorar cualquier carácter que no aparezca en la tabla anterior. A continuación se muestra el código Morse de `Hello, World!`: `.... . .-.. .-.. --- .-- --- .-. .-.. -..`\n",
        "\n"
      ],
      "metadata": {
        "id": "0oJF__kyiYbl"
      }
    },
    {
      "cell_type": "code",
      "source": [
        "# Respuesta Ejercicio 7"
      ],
      "metadata": {
        "id": "BYxnPtmZi9V5"
      },
      "execution_count": null,
      "outputs": []
    },
    {
      "cell_type": "markdown",
      "source": [
        "# Ejercicio 8: `dict` *Unique Characters*\n",
        "\n",
        "*Puede resolverse con al menos **16 líneas**.*\n",
        "\n",
        "*  Crea un programa que determine y muestre el número de ocurrencias de cada caracter que posea un `string` ingresado por el usuario. Por ejemplo `¡Hola, Mundo!` tiene 11 caracteres únicos, mientras que `zzz` solo tiene un caracter único."
      ],
      "metadata": {
        "id": "Pmn951FjlH7O"
      }
    },
    {
      "cell_type": "code",
      "source": [],
      "metadata": {
        "id": "NTELvWEOlHeO"
      },
      "execution_count": null,
      "outputs": []
    },
    {
      "cell_type": "markdown",
      "source": [
        "# Ejercicio 9: `dict` *Two Dice Simulation*\n",
        "\n",
        "*Puede resolverse con al menos **43 líneas**.*\n",
        "\n",
        "*  En este ejercicio simularás 1.000 tiradas de dos dados. Comienza escribiendo una función que simule el lanzamiento de un par de dados de seis caras. Tu función no tomará ningún parámetro. Devolverá como único resultado el total lanzado en los dos dados.\n",
        "\n",
        "*  Escribe un programa principal que utilice tu función para simular el lanzamiento de dos dados de seis caras 1.000 veces. Mientras tu programa se ejecuta, debe contar el número de veces que ocurre cada total. Luego debe mostrar una tabla que resuma estos datos. Expresa la frecuencia de cada total como un porcentaje del número de tiradas realizadas. El programa también debe mostrar el porcentaje esperado por la teoría de la probabilidad para cada total. A continuación se muestra un ejemplo de salida.\n",
        "\n",
        "> ![image.png](data:image/png;base64,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)\n",
        "\n"
      ],
      "metadata": {
        "id": "Q9M738vGmj5T"
      }
    },
    {
      "cell_type": "code",
      "source": [
        "# Respuesta Ejercicio 9"
      ],
      "metadata": {
        "id": "IKsGZK-cnLUc"
      },
      "execution_count": null,
      "outputs": []
    },
    {
      "cell_type": "markdown",
      "source": [
        "# Ejercicio 10: `tuple` *Not Inmutable Enough*\n",
        "\n",
        "*  Escribe una expresion the reemplace el primer elemento en una tupla. Por ejemplo, si reemplazas el primer elemento de la tupla `(4, 5, 6)` por un `1` debería convertirse en `(1, 5, 6)` "
      ],
      "metadata": {
        "id": "uwdLn5Fwv8Xb"
      }
    },
    {
      "cell_type": "code",
      "source": [],
      "metadata": {
        "id": "ZB37ynsyxdsl"
      },
      "execution_count": null,
      "outputs": []
    }
  ]
}